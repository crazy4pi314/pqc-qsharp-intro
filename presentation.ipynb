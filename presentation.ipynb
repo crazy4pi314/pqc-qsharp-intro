{
 "cells": [
  {
   "cell_type": "markdown",
   "metadata": {
    "slideshow": {
     "slide_type": "slide"
    }
   },
   "source": [
    "# Message(\"Introduction to Q#: a quantum development language for everyone\");\n",
    "### Seminar for the [Portland Quantum Computing Meetup Group](https://www.meetup.com/Portland-Quantum-Computing-Meetup-Group) \n",
    "\n",
    "Dr. Sarah Kaiser |  [@crazy4pi314](twitter.com/crazy4pi314) | 28 September 2020\n",
    "\n",
    "---\n",
    "Talk slides/Jupyter Notebook can be found at [bit.ly/pqc-qsharp](http://bit.ly/pqc-qsharp)\n",
    "\n",
    "<center>\n",
    "<a src=\"http://unitary.fund\"><img src=\"https://img.shields.io/badge/Supported%20By-UNITARY%20FUND-brightgreen.svg?style=flat\" width=\"400px\" align=\"left\"/> </a>\n",
    "<img src=\"https://img.shields.io/github/license/crazy4pi314/pqc-qsharp-intro\" width=\"170px\" align=\"left\"/>\n",
    "<a src=\"https://mybinder.org/v2/gh/crazy4pi314/pqc-qsharp-intro/master?filepath=presentation.ipynb\"><img src=\"https://mybinder.org/badge_logo.svg\" width=\"242px\" align=\"left\"/> </a>\n",
    "</center>\n",
    "\n",
    "\n",
    "\n",
    "\n"
   ]
  },
  {
   "cell_type": "markdown",
   "metadata": {
    "slideshow": {
     "slide_type": "skip"
    }
   },
   "source": [
    "### Abstract\n",
    "As the field of Quantum Computing expands from the academic to the industry realm, we need a way that we can continue to collaborate and innovate in both regimes.\n",
    "Open source quantum software development platforms like the Quantum Development Kit and Q# from Microsoft, serve as a bridge to connect research ideas to reality.\n",
    "In this talk, I will give you a tour of what you can do with Q# and show you an example of how I am using it in my own research on qRAMs.\n",
    "After this talk, you will have the resources you need to dive into using Q# for your own research projects!\n",
    "\n",
    "---\n",
    "\n",
    "#### Installation instructions for running this notebook on your machine can be found [here](https://docs.microsoft.com/quantum/install-guide/python?view=qsharp-preview) or you can run this presentation in your browser [here](TODO)."
   ]
  },
  {
   "cell_type": "markdown",
   "metadata": {
    "slideshow": {
     "slide_type": "slide"
    }
   },
   "source": [
    "## whoami: author, streamer, community builder...\n",
    "<br>\n",
    "<center>\n",
    "<img src=\"media/kaiser-bio.png\" width=\"55%\" align=\"center\"/>\n",
    "</center>"
   ]
  },
  {
   "cell_type": "markdown",
   "metadata": {
    "slideshow": {
     "slide_type": "slide"
    }
   },
   "source": [
    "## ... and a researcher  👩‍💻\n",
    "\n",
    "<br>\n",
    "<center>\n",
    "    <img src=\"media/kaiser-lab.jpg\" width=\"35%\">\n",
    "</center>"
   ]
  },
  {
   "cell_type": "markdown",
   "metadata": {
    "slideshow": {
     "slide_type": "slide"
    }
   },
   "source": [
    "## 📃Agenda\n",
    " \n",
    "1. Introduce you to a <span style=\"color:#54296D;\">**research project**</span> I have been working on: a [Q# library for qRAM](https://github.com/qsharp-community/qram),\n",
    "2. give you a <span style=\"color:#54296D;\">**tour of Q#**</span> and why we are using it for our research, \n",
    "3. show you some of what our <span style=\"color:#54296D;\">**qRAM library**</span> looks like and how we use it, and\n",
    "4. share some <span style=\"color:#54296D;\">**tools and resources**</span> for how you can leverage Q# for your own research and studies!\n"
   ]
  },
  {
   "cell_type": "markdown",
   "metadata": {
    "slideshow": {
     "slide_type": "slide"
    }
   },
   "source": [
    "# Part 1: A quantum memory problem"
   ]
  },
  {
   "cell_type": "markdown",
   "metadata": {
    "slideshow": {
     "slide_type": "slide"
    }
   },
   "source": [
    "# This presentation runs on RAM\n",
    "\n",
    "- Classical RAM or _random access memory_ is cheap, fast and plentiful (colorful?)\n",
    "- Implemented with transistors\n",
    "- Generally layed out as arrays of _cells_ that can be **read** from, or **written** to in any order.\n",
    "  \n",
    "<br>\n",
    "<center>\n",
    "    <img src=\"https://media.giphy.com/media/XyUgv8u6TRrVmFPpUo/giphy.gif\" width=\"30%\">\n",
    "</center>"
   ]
  },
  {
   "cell_type": "markdown",
   "metadata": {
    "slideshow": {
     "slide_type": "slide"
    }
   },
   "source": [
    "## Quantum applications _might_ need memory\n",
    "\n",
    "- We need ways to transfer **classical data** to a **quantum system**\n",
    "- _Some_ quantum algorithms, particularly quantum machine learning, assume access to a quantum RAM to load and store data during calculations.\n",
    "- Queries at address $x$ can take many forms: \n",
    "    - Bit value as a phase (Grover's Algorithm): $\\left|x\\right\\rangle\\mapsto(-1)^{b_x}\\left|x\\right\\rangle$\n",
    "    - Bit value as a qubit (Element distinctness): $\\left|x\\right\\rangle\\left|0\\right\\rangle\\mapsto\\left|x\\right\\rangle\\left|b_x\\right\\rangle$\n",
    "    - Bit value as a complex vector of amplitudes (HHL Algorithm): $(b_0...b_n)\\mapsto\\sum\\limits_{j} b_j\\left|j\\right\\rangle$\n",
    "\n"
   ]
  },
  {
   "cell_type": "markdown",
   "metadata": {
    "slideshow": {
     "slide_type": "slide"
    }
   },
   "source": [
    "# Quantum Memories (aka qRAM)\n",
    "\n",
    "**Problem:** It is not clear if we will be able to do this eﬃciently at all, let alone in a fault-tolerant setting. \n",
    "\n",
    " ❗ _An algorithmic speedup **may not** translate to an actual speedup in an application if it is not eﬃcient to use data in the ﬁrst place!_\n",
    "\n",
    "😓 Physical limitations like coherence time, error rates, hardware supported gates, etc. contribute to the difficulty.\n",
    "\n",
    "💡 There are many different approaches, each optimizing for a particular resource. \n"
   ]
  },
  {
   "cell_type": "markdown",
   "metadata": {
    "slideshow": {
     "slide_type": "slide"
    }
   },
   "source": [
    "## Deep Dive: qRAM approaches and tradeoffs:\n",
    "\n",
    "#### http://bit.ly/between-the-bitlines\n",
    "\n",
    "<br>\n",
    "<center>\n",
    "    <img src=\"media/olivia-talk-title.png\" width=\"48%\">\n",
    "\n",
    "</center>"
   ]
  },
  {
   "cell_type": "markdown",
   "metadata": {
    "slideshow": {
     "slide_type": "slide"
    }
   },
   "source": [
    "### So what's the path forward?\n",
    "\n",
    "- To find out **if qRAM will ever work**, we need to have a good way to **evaluate different proposals**.\n",
    "\n",
    "- How can we compare tons of papers when none provide implementations?\n",
    "\n",
    "<br>\n",
    "<center>\n",
    "    <img src=\"https://media.giphy.com/media/lQ6iahDJqm9oldX5gh/source.gif\" width=\"30%\">\n",
    "</center>"
   ]
  },
  {
   "cell_type": "markdown",
   "metadata": {
    "slideshow": {
     "slide_type": "slide"
    }
   },
   "source": [
    "# Part 2: A tour of Q# and why it worked for us"
   ]
  },
  {
   "cell_type": "markdown",
   "metadata": {
    "slideshow": {
     "slide_type": "slide"
    }
   },
   "source": [
    "## So many options...\n",
    "\n",
    "https://qosf.org/project_list/\n",
    "\n",
    "<br>\n",
    "<center>\n",
    "    <img src=\"media/qsof.gif\" width=\"60%\">\n",
    "</center>"
   ]
  },
  {
   "cell_type": "markdown",
   "metadata": {
    "slideshow": {
     "slide_type": "slide"
    }
   },
   "source": [
    "### What we need:"
   ]
  },
  {
   "cell_type": "markdown",
   "metadata": {
    "slideshow": {
     "slide_type": "fragment"
    }
   },
   "source": [
    "- We want to implement _algorithms_\n",
    "  - We want to think about qRAM algorithms at a high level, not always specifically at the gate level\n",
    "  - Need the flexibility to create gate level optimizations as well"
   ]
  },
  {
   "cell_type": "markdown",
   "metadata": {
    "slideshow": {
     "slide_type": "fragment"
    }
   },
   "source": [
    "- We want to build tools to enable research and collaboration\n",
    "  - Need ways to packages our work and make it easy to share, collaborate, and reproduce\n",
    "  - We want to work with a community where we are all included"
   ]
  },
  {
   "cell_type": "markdown",
   "metadata": {
    "slideshow": {
     "slide_type": "slide"
    }
   },
   "source": [
    "# 📊 What do you know about Q#?"
   ]
  },
  {
   "cell_type": "markdown",
   "metadata": {
    "slideshow": {
     "slide_type": "slide"
    }
   },
   "source": [
    "# Q\\# : Microsoft's quantum programming language\n",
    "\n",
    "- New open source language that is domain-specific for quantum computing\n",
    "- Used with the [_Quantum Development Kit_](https://www.microsoft.com/en-us/quantum/development-kit) which provides lots of tools for writing and running your programs.\n",
    "- Designed to be integrated with a number of languages/platforms like Python and .NET"
   ]
  },
  {
   "cell_type": "markdown",
   "metadata": {
    "slideshow": {
     "slide_type": "slide"
    }
   },
   "source": [
    "<center>\n",
    "    <img src=\"media/stack.png\" width=\"80%\">\n",
    "</center>\n"
   ]
  },
  {
   "cell_type": "markdown",
   "metadata": {
    "slideshow": {
     "slide_type": "slide"
    }
   },
   "source": [
    "## What do I write in a Q# program?\n",
    "\n",
    "- **Functions**: `Sin`, `ln`, reversing arrays, etc.\n",
    "    - Deterministic actions, similar to mathematical definition for functions\n",
    "- **Operations**: Everything else 😁 \n",
    "    - Working with qubits is always an operation"
   ]
  },
  {
   "cell_type": "markdown",
   "metadata": {
    "slideshow": {
     "slide_type": "slide"
    }
   },
   "source": [
    "## Q# Hello World"
   ]
  },
  {
   "cell_type": "code",
   "execution_count": null,
   "metadata": {
    "slideshow": {
     "slide_type": "-"
    }
   },
   "outputs": [],
   "source": [
    "function Greeting(name : String) : Unit {\n",
    "    Message($\"Hello World! Nice to meet you {name} 💖\");\n",
    "}"
   ]
  },
  {
   "cell_type": "code",
   "execution_count": null,
   "metadata": {
    "slideshow": {
     "slide_type": "-"
    }
   },
   "outputs": [],
   "source": [
    "%simulate Greeting name=\"Sarah\""
   ]
  },
  {
   "cell_type": "markdown",
   "metadata": {
    "slideshow": {
     "slide_type": "slide"
    }
   },
   "source": [
    "## `using` Qubits in Q#\n",
    "\n",
    "- Qubits are a resource that are requested from the runtime when you need them and returned when you are done."
   ]
  },
  {
   "cell_type": "code",
   "execution_count": null,
   "metadata": {
    "slideshow": {
     "slide_type": "-"
    }
   },
   "outputs": [],
   "source": [
    "open Microsoft.Quantum.Measurement;"
   ]
  },
  {
   "cell_type": "code",
   "execution_count": null,
   "metadata": {
    "slideshow": {
     "slide_type": "-"
    }
   },
   "outputs": [],
   "source": [
    "operation Qrng() : Result {\n",
    "    using(qubit = Qubit()) {   // Preparing the qubit\n",
    "        H(qubit);               // Do operation H\n",
    "        return MResetZ(qubit);  // Measure and reset qubit\n",
    "    }\n",
    "}"
   ]
  },
  {
   "cell_type": "code",
   "execution_count": null,
   "metadata": {
    "slideshow": {
     "slide_type": "slide"
    }
   },
   "outputs": [],
   "source": [
    "%simulate Qrng"
   ]
  },
  {
   "cell_type": "markdown",
   "metadata": {
    "slideshow": {
     "slide_type": "slide"
    }
   },
   "source": [
    "## Generating new operations in QSharp"
   ]
  },
  {
   "cell_type": "markdown",
   "metadata": {
    "slideshow": {
     "slide_type": "-"
    }
   },
   "source": [
    "The _functors_ `Adjoint` and `Controlled` allow you to generate new operations without changes to your code to implement those versions."
   ]
  },
  {
   "cell_type": "code",
   "execution_count": null,
   "metadata": {
    "slideshow": {
     "slide_type": "-"
    }
   },
   "outputs": [],
   "source": [
    "operation ApplyX(qubit : Qubit) : Unit is Adj + Ctl {\n",
    "    X(qubit);\n",
    "}\n",
    "\n",
    "operation ApplyMultiControlNOT(control: Qubit[], target : Qubit) : Unit {\n",
    "    Controlled ApplyX(control, target);\n",
    "}"
   ]
  },
  {
   "cell_type": "code",
   "execution_count": null,
   "metadata": {
    "slideshow": {
     "slide_type": "slide"
    }
   },
   "outputs": [],
   "source": [
    "open Microsoft.Quantum.Diagnostics;\n",
    "\n",
    "operation UseCtlFunctor() : Unit {\n",
    "    using((controls, target) = (Qubit[2], Qubit())){\n",
    "        ApplyToEach(H, controls);\n",
    "        ApplyMultiControlNOT(controls, target);\n",
    "        DumpMachine();\n",
    "        ResetAll(controls + [target]);\n",
    "    }  \n",
    "}"
   ]
  },
  {
   "cell_type": "markdown",
   "metadata": {
    "slideshow": {
     "slide_type": "slide"
    }
   },
   "source": [
    "### Q# programs can be run from:\n",
    "\n",
    "- the command line, if built as stand-alone applications\n",
    "- Python or .NET language programs (C#, F#, etc.) for easy data processing and visualization\n",
    "- Jupyter notebooks with either Q# or Python kernels\n"
   ]
  },
  {
   "cell_type": "code",
   "execution_count": null,
   "metadata": {
    "slideshow": {
     "slide_type": "slide"
    }
   },
   "outputs": [],
   "source": [
    "%simulate UseCtlFunctor"
   ]
  },
  {
   "cell_type": "markdown",
   "metadata": {
    "slideshow": {
     "slide_type": "slide"
    }
   },
   "source": [
    "## More than just simulation..."
   ]
  },
  {
   "cell_type": "code",
   "execution_count": null,
   "metadata": {
    "slideshow": {
     "slide_type": "-"
    }
   },
   "outputs": [],
   "source": [
    "%lsmagic"
   ]
  },
  {
   "cell_type": "markdown",
   "metadata": {
    "slideshow": {
     "slide_type": "slide"
    }
   },
   "source": [
    "### For example: Resource estimation!"
   ]
  },
  {
   "cell_type": "code",
   "execution_count": null,
   "metadata": {
    "slideshow": {
     "slide_type": "-"
    }
   },
   "outputs": [],
   "source": [
    "%estimate UseCtlFunctor"
   ]
  },
  {
   "cell_type": "markdown",
   "metadata": {
    "slideshow": {
     "slide_type": "slide"
    }
   },
   "source": [
    "## Unit testing in Q#\n",
    "\n",
    "- Great way to check that what we have typed matches paper results 😊"
   ]
  },
  {
   "cell_type": "code",
   "execution_count": null,
   "metadata": {
    "slideshow": {
     "slide_type": "-"
    }
   },
   "outputs": [],
   "source": [
    "open Microsoft.Quantum.Arrays;\n",
    "\n",
    "operation AllocateQubitRegister(numQubits : Int) : Unit {\n",
    "\n",
    "    Fact(numQubits > 0, \"Expected a positive number.\");\n",
    "    \n",
    "    using (register = Qubit[numQubits]) {\n",
    "        ApplyToEach(AssertQubit(Zero, _), register);\n",
    "    }\n",
    "    Message(\"Test passed!\");\n",
    "}"
   ]
  },
  {
   "cell_type": "code",
   "execution_count": null,
   "metadata": {
    "slideshow": {
     "slide_type": "slide"
    }
   },
   "outputs": [],
   "source": [
    "%simulate AllocateQubitRegister numQubits=5"
   ]
  },
  {
   "cell_type": "markdown",
   "metadata": {
    "slideshow": {
     "slide_type": "slide"
    }
   },
   "source": [
    "## Unit testing in Q# cont.\n",
    "\n",
    "- Helpful to test if qRAM optimizations still do the same thing\n",
    "- Q# uses the _Choi–Jamiłkowski isomorphism_ to make an assertion of operation equivalence to one about preparing states\n",
    "    <!--- We know that if you apply an operation and then it's adjoint, that should be an Identity operation\n",
    "    - Make a channel that applies your operation under test, and then the adjoint of your reference operation.\n",
    "    - If you start with a maximally entangled state, then apply the channel to one half of a maximally entangled state, then you can use state assertions to verify that you still have that same maximally entangled state.-->\n"
   ]
  },
  {
   "cell_type": "code",
   "execution_count": null,
   "metadata": {
    "slideshow": {
     "slide_type": "-"
    }
   },
   "outputs": [],
   "source": [
    "open Microsoft.Quantum.Diagnostics; \n",
    "\n",
    "operation ApplyCNOT(register : Qubit[])\n",
    ": Unit is Adj + Ctl {\n",
    "    CNOT(register[0], register[1]);\n",
    "}"
   ]
  },
  {
   "cell_type": "code",
   "execution_count": null,
   "metadata": {
    "slideshow": {
     "slide_type": "slide"
    }
   },
   "outputs": [],
   "source": [
    "operation ApplyCNOTTheOtherWay(register : Qubit[])\n",
    ": Unit is Adj + Ctl {\n",
    "    within {\n",
    "        ApplyToEachCA(H, register);\n",
    "    } \n",
    "    apply {\n",
    "        CNOT(register[1], register[0]);\n",
    "    }\n",
    "}\n",
    "\n",
    "operation CheckThatThisWorks() : Unit {\n",
    "    AssertOperationsEqualReferenced(2, ApplyCNOT, ApplyCNOTTheOtherWay);\n",
    "    Message(\"It works!\");\n",
    "}"
   ]
  },
  {
   "cell_type": "code",
   "execution_count": null,
   "metadata": {
    "slideshow": {
     "slide_type": "-"
    }
   },
   "outputs": [],
   "source": [
    "%simulate CheckThatThisWorks"
   ]
  },
  {
   "cell_type": "markdown",
   "metadata": {
    "slideshow": {
     "slide_type": "slide"
    }
   },
   "source": [
    "## Our plan:\n",
    "\n",
    "🧰 **Step 1:** Use functions and operations to implement the qRAM proposals\n",
    "\n",
    "📚 **Step 2:** Use libraries, functors, and other features to reduce how much code we need to write\n",
    "\n",
    "🧪 **Step 3:** Use testing features to make sure our implementations are correct\n",
    "\n",
    "💰 **Step 4:** Profit! (also publish 📃)"
   ]
  },
  {
   "cell_type": "markdown",
   "metadata": {
    "slideshow": {
     "slide_type": "slide"
    }
   },
   "source": [
    "# Part 3: The qRAM library"
   ]
  },
  {
   "cell_type": "markdown",
   "metadata": {},
   "source": [
    "### https://github.com/qsharp-community/qram\n",
    "<br>\n",
    "<center>\n",
    "    <img src=\"media/github-screencap.png\" width=\"50%\">\n",
    "</center>"
   ]
  },
  {
   "cell_type": "markdown",
   "metadata": {
    "slideshow": {
     "slide_type": "slide"
    }
   },
   "source": [
    "## Basic layout:\n",
    "\n",
    "```\n",
    "├───📃 docs 📃\n",
    "├───🔮 samples 🔮\n",
    "│   ├───BucketBrigade\n",
    "│   ├───Grover\n",
    "│   ├───Qrom\n",
    "│   ├───ResourceEstimation\n",
    "│   └───SelectSwap\n",
    "├───✨ src ✨\n",
    "└───🧪 tests 🧪\n",
    "```"
   ]
  },
  {
   "cell_type": "markdown",
   "metadata": {
    "slideshow": {
     "slide_type": "slide"
    }
   },
   "source": [
    "# `src`: where qRAMs are implemented\n",
    "<br>\n",
    "<center>\n",
    "    <img src=\"media/src-screenshot.png\" width=\"60%\">\n",
    "\n",
    "</center>"
   ]
  },
  {
   "cell_type": "markdown",
   "metadata": {
    "slideshow": {
     "slide_type": "slide"
    }
   },
   "source": [
    "### Currently implemented proposals:\n",
    "**qRAM**\n",
    "- Bucket Brigade (bit and phase queries) [0708.1879](https://arxiv.org/abs/0708.1879)\n",
    "\n",
    "**qROM**\n",
    "- Simple [0807.4994](https://arxiv.org/abs/0807.4994)\n",
    "- SELECTSWAP [1812.00954](https://arxiv.org/abs/1812.00954)"
   ]
  },
  {
   "cell_type": "markdown",
   "metadata": {
    "slideshow": {
     "slide_type": "slide"
    }
   },
   "source": [
    "## Custom Types for quantum memories"
   ]
  },
  {
   "cell_type": "markdown",
   "metadata": {
    "slideshow": {
     "slide_type": "-"
    }
   },
   "source": [
    "```\n",
    "newtype QRAM = (\n",
    "    QueryPhase : ((AddressRegister, MemoryRegister, Qubit[]) => Unit is Adj + Ctl),\n",
    "    QueryBit : ((AddressRegister, MemoryRegister, Qubit[]) => Unit is Adj + Ctl), \n",
    "    Write : ((MemoryRegister, MemoryCell) => Unit), \n",
    "    AddressSize : Int,\n",
    "    DataSize : Int\n",
    ");\n",
    "```"
   ]
  },
  {
   "cell_type": "markdown",
   "metadata": {
    "slideshow": {
     "slide_type": "slide"
    }
   },
   "source": [
    "## Using a qROM"
   ]
  },
  {
   "cell_type": "code",
   "execution_count": null,
   "metadata": {
    "slideshow": {
     "slide_type": "-"
    }
   },
   "outputs": [],
   "source": [
    "%package QSharpCommunity.Libraries.Qram::0.1.35"
   ]
  },
  {
   "cell_type": "markdown",
   "metadata": {
    "slideshow": {
     "slide_type": "slide"
    }
   },
   "source": [
    "## Libraries help us bootstrap"
   ]
  },
  {
   "cell_type": "code",
   "execution_count": null,
   "metadata": {
    "slideshow": {
     "slide_type": "-"
    }
   },
   "outputs": [],
   "source": [
    "open Microsoft.Quantum.Arrays;\n",
    "open Microsoft.Quantum.Arithmetic;\n",
    "open Microsoft.Quantum.Canon;\n",
    "open Microsoft.Quantum.Convert;\n",
    "open Microsoft.Quantum.Intrinsic;\n",
    "open Microsoft.Quantum.Measurement;\n",
    "open Qram;"
   ]
  },
  {
   "cell_type": "markdown",
   "metadata": {
    "slideshow": {
     "slide_type": "slide"
    }
   },
   "source": [
    "## Custom types  and functions allow us to process memory contents"
   ]
  },
  {
   "cell_type": "code",
   "execution_count": null,
   "metadata": {
    "slideshow": {
     "slide_type": "-"
    }
   },
   "outputs": [],
   "source": [
    "function ExampleMemoryData() : MemoryBank {\n",
    "    let numDataBits = 3;\n",
    "    let data =  [\n",
    "        (0, IntAsBoolArray(0, numDataBits)), \n",
    "        (2, IntAsBoolArray(5, numDataBits)),\n",
    "        (4, IntAsBoolArray(2, numDataBits)),\n",
    "        (5, IntAsBoolArray(3, numDataBits))\n",
    "    ];\n",
    "    return GeneratedMemoryBank(Mapped(MemoryCell, data));\n",
    "}"
   ]
  },
  {
   "cell_type": "markdown",
   "metadata": {
    "slideshow": {
     "slide_type": "slide"
    }
   },
   "source": [
    "### Using a qROM (Read Only Memory)"
   ]
  },
  {
   "cell_type": "code",
   "execution_count": null,
   "metadata": {
    "slideshow": {
     "slide_type": "-"
    }
   },
   "outputs": [],
   "source": [
    "operation QueryAndMeasureQrom(memory : QROM, queryAddress : Int) : Int {\n",
    "    using ((addressRegister, targetRegister) = \n",
    "            (Qubit[memory::AddressSize], Qubit[memory::DataSize])) {\n",
    "        ApplyPauliFromBitString (PauliX, true, IntAsBoolArray(queryAddress, memory::AddressSize), addressRegister);\n",
    "        memory::Read(LittleEndian(addressRegister), targetRegister);\n",
    "        ResetAll(addressRegister);\n",
    "        return MeasureInteger(LittleEndian(targetRegister));\n",
    "    }\n",
    "}"
   ]
  },
  {
   "cell_type": "code",
   "execution_count": null,
   "metadata": {
    "slideshow": {
     "slide_type": "slide"
    }
   },
   "outputs": [],
   "source": [
    "operation QueryQrom(queryAddress : Int) : Int {\n",
    "    // Generate a (Int, Bool[]) array of data.\n",
    "    let data = ExampleMemoryData();\n",
    "    // Create the QRAM.\n",
    "    let memory = QromOracle(data::DataSet);\n",
    "    // Measure and return the data value stored at `queryAddress`.\n",
    "    return QueryAndMeasureQrom(memory, queryAddress);\n",
    "}"
   ]
  },
  {
   "cell_type": "markdown",
   "metadata": {
    "slideshow": {
     "slide_type": "slide"
    }
   },
   "source": [
    "### Using a qROM"
   ]
  },
  {
   "cell_type": "markdown",
   "metadata": {
    "slideshow": {
     "slide_type": "-"
    }
   },
   "source": [
    "```\n",
    "// data: {(0, 0), (2, 5), (4, 2), (5, 3)}\n",
    "```"
   ]
  },
  {
   "cell_type": "code",
   "execution_count": null,
   "metadata": {
    "slideshow": {
     "slide_type": "-"
    }
   },
   "outputs": [],
   "source": [
    "%simulate QueryQrom queryAddress=2"
   ]
  },
  {
   "cell_type": "code",
   "execution_count": null,
   "metadata": {
    "slideshow": {
     "slide_type": "-"
    }
   },
   "outputs": [],
   "source": [
    "%estimate QueryQrom queryAddress=2"
   ]
  },
  {
   "cell_type": "markdown",
   "metadata": {
    "slideshow": {
     "slide_type": "slide"
    }
   },
   "source": [
    "# `tests`: ✔ our work\n",
    "- Can run small instances on simulators\n",
    "- Can verify resource counts on larger instances\n",
    "<br>\n",
    "<center>\n",
    "    <img src=\"media/tests-screenshot.png\" width=\"40%\">\n",
    "\n",
    "</center>\n"
   ]
  },
  {
   "cell_type": "markdown",
   "metadata": {
    "slideshow": {
     "slide_type": "slide"
    }
   },
   "source": [
    "# `docs`: help others use our work💪\n",
    "\n",
    "<figure style=\"text-align: left;\">\n",
    "        <caption>\n",
    "    </caption>\n",
    "    <img src=\"media/docs.png\" width=\"60%\">\n",
    "\n",
    "</figure>"
   ]
  },
  {
   "cell_type": "markdown",
   "metadata": {
    "slideshow": {
     "slide_type": "slide"
    }
   },
   "source": [
    "# What's next for the qRAM library?\n",
    "\n",
    "🔍 Detailed resource counting for subroutines of our programs\n",
    "\n",
    "📓 More documentation in an interactive browser\n",
    "\n",
    "📄 Research paper compiling our results\n",
    "\n",
    "❓ More qRAM/qROM proposals "
   ]
  },
  {
   "cell_type": "markdown",
   "metadata": {
    "slideshow": {
     "slide_type": "slide"
    }
   },
   "source": [
    "<center>\n",
    "    <img src=\"media/milestones.png\" width=\"50%\">\n",
    "\n",
    "</center>"
   ]
  },
  {
   "cell_type": "markdown",
   "metadata": {
    "slideshow": {
     "slide_type": "slide"
    }
   },
   "source": [
    "# Part 4: How can you start your own Q# project?"
   ]
  },
  {
   "cell_type": "markdown",
   "metadata": {
    "slideshow": {
     "slide_type": "slide"
    }
   },
   "source": [
    "## 1. Learn more about about Q#!\n",
    "\n",
    "📑 [docs.microsoft.com/quantum](docs.microsoft.com/quantum)\n",
    "\n",
    "📗 _Learn Quantum Computing with Python and Q#_: [bit.ly/qsharp-book](bit.ly/qsharp-book)\n",
    "\n",
    "📺 Live quantum development on Twitch: [twitch.tv/crazy4pi314](twitch.tv/crazy4pi314)\n"
   ]
  },
  {
   "cell_type": "markdown",
   "metadata": {
    "slideshow": {
     "slide_type": "slide"
    }
   },
   "source": [
    "## 2. Check out [qsharp.community](qsharp.community)\n",
    "\n",
    "<br>\n",
    "<center>\n",
    "    <img src=\"media/qsc.png\" width=\"50%\">\n",
    "</center>"
   ]
  },
  {
   "cell_type": "markdown",
   "metadata": {
    "slideshow": {
     "slide_type": "slide"
    }
   },
   "source": [
    "## Q# community Mission:\n",
    "\n",
    "We want to _empower everyone_ to get involved in quantum development."
   ]
  },
  {
   "cell_type": "markdown",
   "metadata": {
    "slideshow": {
     "slide_type": "fragment"
    }
   },
   "source": [
    "- Make sure everyone feels **safe and welcome** in our spaces\n"
   ]
  },
  {
   "cell_type": "markdown",
   "metadata": {
    "slideshow": {
     "slide_type": "fragment"
    }
   },
   "source": [
    "- Understand **how the community communicates**, and setup tools that work for them $\\to$ [slack.qsharp.community](https://slack.qsharp.community) "
   ]
  },
  {
   "cell_type": "markdown",
   "metadata": {
    "slideshow": {
     "slide_type": "fragment"
    }
   },
   "source": [
    "- Ensure we can support for **members of all skill levels**"
   ]
  },
  {
   "cell_type": "markdown",
   "metadata": {
    "slideshow": {
     "slide_type": "slide"
    }
   },
   "source": [
    "## 3. Check out other Q# community projects\n",
    "\n",
    "<br>\n",
    "<center>\n",
    "    <img src=\"media/qsc-projects.png\" width=\"80%\">\n",
    "</center>"
   ]
  },
  {
   "cell_type": "markdown",
   "metadata": {
    "slideshow": {
     "slide_type": "slide"
    }
   },
   "source": [
    "# 📝 Review 📝\n",
    "\n",
    "\n",
    "- Q# is a high level, open-source language for writing quantum algorithms \n",
    "- We have implemented a number of proposals for qRAMs in a Q# library and are working on full resource estimates \n",
    "- The Q# Community is a great resource for help when you are working on Q# projects"
   ]
  },
  {
   "cell_type": "markdown",
   "metadata": {
    "slideshow": {
     "slide_type": "slide"
    }
   },
   "source": [
    "## 👩‍💻Quantum programming resources!👩‍💻\n",
    "\n",
    "- Q# Documentation: [docs.microsoft.com/quantum](https://docs.microsoft.com/quantum)\n",
    "- _Learn Quantum Computing with Python and Q\\#_ : [bit.ly/qsharp-book](http://www.manning.com/?a_aid=learn-qc-kaiser)\n",
    "- Community: [qsharp.community](https://qsharp.community/)\n",
    "    - Q# Community Slack [slack.qsharp.community](https://slack.qsharp.community)\n",
    "    - Women in Quantum Computing and Algorithms (WIQCA): [wiqca.dev](https://wiqca.dev)\n",
    "    - Quantum Open Source Foundation: [qosf.org](https://www.qosf.org/)\n",
    "    - Unitary Fund [unitary.fund](https://unitary.fund/)"
   ]
  }
 ],
 "metadata": {
  "celltoolbar": "Slideshow",
  "kernelspec": {
   "display_name": "Q#",
   "language": "qsharp",
   "name": "iqsharp"
  },
  "language_info": {
   "file_extension": ".qs",
   "mimetype": "text/x-qsharp",
   "name": "qsharp",
   "version": "0.12"
  },
  "livereveal": {
   "autolaunch": true,
   "scroll": true
  },
  "rise": {
   "controls": false
  }
 },
 "nbformat": 4,
 "nbformat_minor": 2
}
